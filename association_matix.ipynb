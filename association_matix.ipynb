{
 "cells": [
  {
   "cell_type": "code",
   "execution_count": null,
   "metadata": {},
   "outputs": [],
   "source": [
    "import networkx as nx\n",
    "\n",
    "# build a ER graph\n",
    "G = nx.erdos_renyi_graph(100, 0.1)"
   ]
  },
  {
   "cell_type": "code",
   "execution_count": null,
   "metadata": {},
   "outputs": [],
   "source": [
    "# set the node attribute\n",
    "from cv2 import threshold\n",
    "import numpy as np\n",
    "\n",
    "threshold_value = 60\n",
    "for node in G:\n",
    "    time = 0\n",
    "    N0 = np.random.randint(100,1000)\n",
    "    I0 = np.random.randint(1,10)\n",
    "    S0 = N0 - I0\n",
    "    R0 = 0\n",
    "    β = np.random.normal(1,0.1)\n",
    "    γ = np.random.normal(1,0.1)\n",
    "    G.nodes[node][0] = {'S':S0,'I':I0,'R':R0,'N':N0,'β':β,'γ':γ}\n",
    "    for time in range(1,threshold_value):\n",
    "        G.nodes[node][time] = {'S':0,'I':0,'R':0,'N':N0,'β':β,'γ':γ}\n",
    "    \n",
    "    \n",
    "\n",
    "# set the edge attribute\n",
    "for edge in G.edges:\n",
    "    G.edges[edge]['weight'] = np.random.normal(0.1,0.01)\n",
    "\n",
    "for node in G:\n",
    "    # get node's neighbor node and the weight of the edge\n",
    "    node_neight_weight = []\n",
    "    for neighbor, weight in G[node].items():\n",
    "        node_neight_weight.append((neighbor,weight['weight']))\n",
    "    for time in range(1,threshold_value): \n",
    "        # calculate the S for each node\n",
    "        G.nodes[node][time]['I'] = G.nodes[node][time-1]['I'] * G.nodes[node][time-1]['β'] * G.nodes[node][time-1]['S'] / G.nodes[node][time-1]['N'] - G.nodes[node][time-1]['γ'] * G.nodes[node][time-1]['I']\n",
    "        for neight, weight in node_neight_weight:\n",
    "            G.nodes[node][time]['I'] += weight*G.nodes[neight][time-1]['I'] * G.nodes[neight][time-1]['β'] * G.nodes[neight][time-1]['S'] / G.nodes[neight][time-1]['N']\n",
    "        G.nodes[node][time]['S'] = max(0,G.nodes[node][time-1]['S'] - G.nodes[node][time]['I']*G.nodes[node][time-1]['β']*G.nodes[node][time-1]['S']/G.nodes[node][time-1]['N'])\n",
    "        G.nodes[node][time]['R'] = G.nodes[node][time-1]['R'] + G.nodes[node][time-1]['γ'] * G.nodes[node][time-1]['I']\n",
    "        G.nodes[node][time]['N'] = G.nodes[node][time-1]['N']\n",
    "        G.nodes[node][time]['β'] = G.nodes[node][time-1]['β']\n",
    "        G.nodes[node][time]['γ'] = G.nodes[node][time-1]['γ']"
   ]
  },
  {
   "cell_type": "code",
   "execution_count": null,
   "metadata": {},
   "outputs": [],
   "source": [
    "for node in G:\n",
    "    # print(G.nodes[node])\n",
    "    print(G.nodes[node])\n",
    "    "
   ]
  },
  {
   "cell_type": "code",
   "execution_count": 86,
   "metadata": {},
   "outputs": [
    {
     "data": {
      "text/plain": [
       "1.0351820762140584"
      ]
     },
     "execution_count": 86,
     "metadata": {},
     "output_type": "execute_result"
    }
   ],
   "source": [
    "np.random.normal(1,0.1)"
   ]
  },
  {
   "cell_type": "code",
   "execution_count": 73,
   "metadata": {},
   "outputs": [],
   "source": [
    "# convet the G to a pandas dataframe\n",
    "import pandas as pd\n",
    "dataframe = pd.DataFrame({'S':[],'I':[],'R':[],'N':[],'β':[],'γ':[],'loc':[],'time':[]})\n",
    "for node in G:\n",
    "    for time in range(0,threshold_value):\n",
    "        dataframe = pd.concat([dataframe, pd.DataFrame({'S':[G.nodes[node][time]['S']],'I':[G.nodes[node][time]['I']],'R':[G.nodes[node][time]['R']],'N':[G.nodes[node][time]['N']],'β':[G.nodes[node][time]['β']],'γ':[G.nodes[node][time]['γ']],'loc':[node],'time':[time]})], ignore_index=True)"
   ]
  },
  {
   "cell_type": "code",
   "execution_count": 75,
   "metadata": {},
   "outputs": [
    {
     "data": {
      "text/html": [
       "<div>\n",
       "<style scoped>\n",
       "    .dataframe tbody tr th:only-of-type {\n",
       "        vertical-align: middle;\n",
       "    }\n",
       "\n",
       "    .dataframe tbody tr th {\n",
       "        vertical-align: top;\n",
       "    }\n",
       "\n",
       "    .dataframe thead th {\n",
       "        text-align: right;\n",
       "    }\n",
       "</style>\n",
       "<table border=\"1\" class=\"dataframe\">\n",
       "  <thead>\n",
       "    <tr style=\"text-align: right;\">\n",
       "      <th></th>\n",
       "      <th>S</th>\n",
       "      <th>I</th>\n",
       "      <th>R</th>\n",
       "      <th>N</th>\n",
       "      <th>β</th>\n",
       "      <th>γ</th>\n",
       "      <th>loc</th>\n",
       "      <th>time</th>\n",
       "    </tr>\n",
       "  </thead>\n",
       "  <tbody>\n",
       "    <tr>\n",
       "      <th>0</th>\n",
       "      <td>132.000000</td>\n",
       "      <td>8.000000e+00</td>\n",
       "      <td>0.000000</td>\n",
       "      <td>140.0</td>\n",
       "      <td>0.983959</td>\n",
       "      <td>1.100832</td>\n",
       "      <td>0.0</td>\n",
       "      <td>0.0</td>\n",
       "    </tr>\n",
       "    <tr>\n",
       "      <th>1</th>\n",
       "      <td>130.202933</td>\n",
       "      <td>1.937052e+00</td>\n",
       "      <td>8.806656</td>\n",
       "      <td>140.0</td>\n",
       "      <td>0.983959</td>\n",
       "      <td>1.100832</td>\n",
       "      <td>0.0</td>\n",
       "      <td>1.0</td>\n",
       "    </tr>\n",
       "    <tr>\n",
       "      <th>2</th>\n",
       "      <td>130.532156</td>\n",
       "      <td>-3.597668e-01</td>\n",
       "      <td>10.939024</td>\n",
       "      <td>140.0</td>\n",
       "      <td>0.983959</td>\n",
       "      <td>1.100832</td>\n",
       "      <td>0.0</td>\n",
       "      <td>2.0</td>\n",
       "    </tr>\n",
       "    <tr>\n",
       "      <th>3</th>\n",
       "      <td>130.471619</td>\n",
       "      <td>6.598669e-02</td>\n",
       "      <td>10.542981</td>\n",
       "      <td>140.0</td>\n",
       "      <td>0.983959</td>\n",
       "      <td>1.100832</td>\n",
       "      <td>0.0</td>\n",
       "      <td>3.0</td>\n",
       "    </tr>\n",
       "    <tr>\n",
       "      <th>4</th>\n",
       "      <td>130.482743</td>\n",
       "      <td>-1.213104e-02</td>\n",
       "      <td>10.615621</td>\n",
       "      <td>140.0</td>\n",
       "      <td>0.983959</td>\n",
       "      <td>1.100832</td>\n",
       "      <td>0.0</td>\n",
       "      <td>4.0</td>\n",
       "    </tr>\n",
       "    <tr>\n",
       "      <th>...</th>\n",
       "      <td>...</td>\n",
       "      <td>...</td>\n",
       "      <td>...</td>\n",
       "      <td>...</td>\n",
       "      <td>...</td>\n",
       "      <td>...</td>\n",
       "      <td>...</td>\n",
       "      <td>...</td>\n",
       "    </tr>\n",
       "    <tr>\n",
       "      <th>5995</th>\n",
       "      <td>403.208681</td>\n",
       "      <td>5.183876e-25</td>\n",
       "      <td>13.793129</td>\n",
       "      <td>416.0</td>\n",
       "      <td>0.975130</td>\n",
       "      <td>1.047304</td>\n",
       "      <td>99.0</td>\n",
       "      <td>55.0</td>\n",
       "    </tr>\n",
       "    <tr>\n",
       "      <th>5996</th>\n",
       "      <td>403.208681</td>\n",
       "      <td>-1.811295e-25</td>\n",
       "      <td>13.793129</td>\n",
       "      <td>416.0</td>\n",
       "      <td>0.975130</td>\n",
       "      <td>1.047304</td>\n",
       "      <td>99.0</td>\n",
       "      <td>56.0</td>\n",
       "    </tr>\n",
       "    <tr>\n",
       "      <th>5997</th>\n",
       "      <td>403.208681</td>\n",
       "      <td>6.324357e-26</td>\n",
       "      <td>13.793129</td>\n",
       "      <td>416.0</td>\n",
       "      <td>0.975130</td>\n",
       "      <td>1.047304</td>\n",
       "      <td>99.0</td>\n",
       "      <td>57.0</td>\n",
       "    </tr>\n",
       "    <tr>\n",
       "      <th>5998</th>\n",
       "      <td>403.208681</td>\n",
       "      <td>-2.206745e-26</td>\n",
       "      <td>13.793129</td>\n",
       "      <td>416.0</td>\n",
       "      <td>0.975130</td>\n",
       "      <td>1.047304</td>\n",
       "      <td>99.0</td>\n",
       "      <td>58.0</td>\n",
       "    </tr>\n",
       "    <tr>\n",
       "      <th>5999</th>\n",
       "      <td>403.208681</td>\n",
       "      <td>7.695050e-27</td>\n",
       "      <td>13.793129</td>\n",
       "      <td>416.0</td>\n",
       "      <td>0.975130</td>\n",
       "      <td>1.047304</td>\n",
       "      <td>99.0</td>\n",
       "      <td>59.0</td>\n",
       "    </tr>\n",
       "  </tbody>\n",
       "</table>\n",
       "<p>6000 rows × 8 columns</p>\n",
       "</div>"
      ],
      "text/plain": [
       "               S             I          R      N         β         γ   loc  \\\n",
       "0     132.000000  8.000000e+00   0.000000  140.0  0.983959  1.100832   0.0   \n",
       "1     130.202933  1.937052e+00   8.806656  140.0  0.983959  1.100832   0.0   \n",
       "2     130.532156 -3.597668e-01  10.939024  140.0  0.983959  1.100832   0.0   \n",
       "3     130.471619  6.598669e-02  10.542981  140.0  0.983959  1.100832   0.0   \n",
       "4     130.482743 -1.213104e-02  10.615621  140.0  0.983959  1.100832   0.0   \n",
       "...          ...           ...        ...    ...       ...       ...   ...   \n",
       "5995  403.208681  5.183876e-25  13.793129  416.0  0.975130  1.047304  99.0   \n",
       "5996  403.208681 -1.811295e-25  13.793129  416.0  0.975130  1.047304  99.0   \n",
       "5997  403.208681  6.324357e-26  13.793129  416.0  0.975130  1.047304  99.0   \n",
       "5998  403.208681 -2.206745e-26  13.793129  416.0  0.975130  1.047304  99.0   \n",
       "5999  403.208681  7.695050e-27  13.793129  416.0  0.975130  1.047304  99.0   \n",
       "\n",
       "      time  \n",
       "0      0.0  \n",
       "1      1.0  \n",
       "2      2.0  \n",
       "3      3.0  \n",
       "4      4.0  \n",
       "...    ...  \n",
       "5995  55.0  \n",
       "5996  56.0  \n",
       "5997  57.0  \n",
       "5998  58.0  \n",
       "5999  59.0  \n",
       "\n",
       "[6000 rows x 8 columns]"
      ]
     },
     "execution_count": 75,
     "metadata": {},
     "output_type": "execute_result"
    }
   ],
   "source": [
    "dataframe"
   ]
  },
  {
   "cell_type": "code",
   "execution_count": 74,
   "metadata": {},
   "outputs": [
    {
     "data": {
      "text/plain": [
       "<AxesSubplot:xlabel='time', ylabel='I'>"
      ]
     },
     "execution_count": 74,
     "metadata": {},
     "output_type": "execute_result"
    },
    {
     "data": {
      "image/png": "[encoded data removed]",
      "text/plain": [
       "<Figure size 640x480 with 1 Axes>"
      ]
     },
     "metadata": {},
     "output_type": "display_data"
    }
   ],
   "source": [
    "dataframe[dataframe['loc']==0]['I']\n",
    "\n",
    "import matplotlib.pyplot as plt\n",
    "import seaborn as sns\n",
    "\n",
    "sns.lineplot(x='time',y='I',data = dataframe)"
   ]
  },
  {
   "cell_type": "code",
   "execution_count": null,
   "metadata": {},
   "outputs": [],
   "source": [
    "for node in G:\n",
    "    connected_nodes = G.neighbors(node)\n",
    "    connected_nodes = [node for node in connected_nodes]\n",
    "    for neightbor in connected_nodes:\n",
    "        print(node,neightbor,G.edges[node,neightbor]['weight'])\n",
    "    connected_edges = [G.edges[edge]['weight'] for edge in G.edges if edge[0] == node]\n",
    "    connected_I = [G.nodes[connected_node][0]['I'] for connected_node in connected_nodes]\n",
    "    print(node,connected_nodes,connected_edges)\n",
    "    break\n",
    "    "
   ]
  },
  {
   "cell_type": "code",
   "execution_count": null,
   "metadata": {},
   "outputs": [],
   "source": [
    "# build a association matrix\n",
    "A = nx.adjacency_matrix(G)\n"
   ]
  },
  {
   "cell_type": "code",
   "execution_count": null,
   "metadata": {},
   "outputs": [],
   "source": [
    "A"
   ]
  },
  {
   "cell_type": "code",
   "execution_count": null,
   "metadata": {},
   "outputs": [],
   "source": [
    "import numpy as np\n",
    "amatrix = np.array(A.todense())"
   ]
  },
  {
   "cell_type": "code",
   "execution_count": null,
   "metadata": {},
   "outputs": [],
   "source": [
    "amatrix"
   ]
  },
  {
   "cell_type": "code",
   "execution_count": null,
   "metadata": {},
   "outputs": [],
   "source": [
    "# show the graph\n",
    "nx.draw(G, with_labels=True)"
   ]
  },
  {
   "cell_type": "code",
   "execution_count": null,
   "metadata": {},
   "outputs": [],
   "source": [
    "# for each node, we build an isolated cases\n",
    "# the initial state is (N0-I0,I0,0,N0,β,γ)\n",
    "# S0 is the initial number of susceptible individuals\n",
    "# I0 is the initial number of infected individuals\n",
    "# R0 is the initial number of recovered individuals\n",
    "# N0 is the total population\n",
    "# β is the infection rate\n",
    "# γ is the recovery rate\n",
    "#\n",
    "import numpy as np\n",
    "import matplotlib.pyplot as plt\n",
    "import pandas as pd\n",
    "\n",
    "dataframe = pd.DataFrame({'S':[],'I':[],'R':[],'N':[],'β':[],'γ':[]})\n",
    "for node in G:\n",
    "    N0 = np.random.randint(100,1000)\n",
    "    I0 = np.random.randint(1,10)\n",
    "    S0 = N0 - I0\n",
    "    R0 = 0\n",
    "    β = np.random.normal(2,0.1)\n",
    "    γ = np.random.normal(1,0.1)\n",
    "    dataframe = pd.concat([dataframe, pd.DataFrame({'S':[S0],'I':[I0],'R':[R0],'N':[N0],'β':[β],'γ':[γ],'loc':[node],'time':[0]})], ignore_index=True)\n",
    "    for time in range(1,50):\n",
    "        S0 = S0 - β*S0*I0/N0\n",
    "        I0 = I0 + β*S0*I0/N0 - γ*I0\n",
    "        R0 = R0 + γ*I0\n",
    "        S0 = int(S0)\n",
    "        I0 = int(I0)\n",
    "        R0 = int(R0)\n",
    "        dataframe = pd.concat([dataframe,pd.DataFrame({'S':[S0],'I':[I0],'R':[R0],'N':[N0],'β':[β],'γ':[γ],'loc':[node],'time':[time]})],ignore_index=True)\n",
    "dataframe\n",
    "\n",
    "\n"
   ]
  },
  {
   "cell_type": "code",
   "execution_count": null,
   "metadata": {},
   "outputs": [],
   "source": [
    "dataframe[dataframe['loc']==0]['I']\n",
    "\n",
    "import matplotlib.pyplot as plt\n",
    "import seaborn as sns\n",
    "\n",
    "sns.lineplot(x='time',y='I',data = dataframe)"
   ]
  },
  {
   "cell_type": "code",
   "execution_count": null,
   "metadata": {},
   "outputs": [],
   "source": [
    "# two nodes interact with each other\n"
   ]
  }
 ],
 "metadata": {
  "kernelspec": {
   "display_name": "Python 3.8.13",
   "language": "python",
   "name": "python3"
  },
  "language_info": {
   "codemirror_mode": {
    "name": "ipython",
    "version": 3
   },
   "file_extension": ".py",
   "mimetype": "text/x-python",
   "name": "python",
   "nbconvert_exporter": "python",
   "pygments_lexer": "ipython3",
   "version": "3.8.13"
  },
  "orig_nbformat": 4,
  "vscode": {
   "interpreter": {
    "hash": "2e817c76722b36de1cac76e9ae897b56127a6db9e45d7ece6fdba2ab4fc21161"
   }
  }
 },
 "nbformat": 4,
 "nbformat_minor": 2
}
